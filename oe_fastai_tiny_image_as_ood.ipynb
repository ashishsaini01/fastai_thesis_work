{
  "cells": [
    {
      "cell_type": "markdown",
      "metadata": {
        "id": "view-in-github",
        "colab_type": "text"
      },
      "source": [
        "<a href=\"https://colab.research.google.com/github/ashishsaini01/fastai_thesis_work/blob/thesis/oe_fastai_tiny_image_as_ood.ipynb\" target=\"_parent\"><img src=\"https://colab.research.google.com/assets/colab-badge.svg\" alt=\"Open In Colab\"/></a>"
      ]
    },
    {
      "cell_type": "code",
      "execution_count": 1,
      "metadata": {
        "id": "QXwSWHz1ttKZ"
      },
      "outputs": [],
      "source": [
        "from fastai.vision.all import *"
      ]
    },
    {
      "cell_type": "code",
      "execution_count": 2,
      "metadata": {
        "colab": {
          "base_uri": "https://localhost:8080/"
        },
        "id": "dc08Gcnvtw2J",
        "outputId": "8ae45ea1-4cb3-419f-df4d-9ea71fcd69df"
      },
      "outputs": [
        {
          "output_type": "stream",
          "name": "stdout",
          "text": [
            "Mounted at /content/drive\n"
          ]
        }
      ],
      "source": [
        "# mount drive\n",
        "from google.colab import drive\n",
        "drive.mount('/content/drive')"
      ]
    },
    {
      "cell_type": "code",
      "execution_count": 13,
      "metadata": {
        "id": "TAm3YUkDuFuP"
      },
      "outputs": [],
      "source": [
        "path_to_custom_dataset = '/content/drive/MyDrive/tiny_data_thesis/all_images_tiny'\n",
        "# path_to_mnist_dataset = untar_data(URLs.MNIST)"
      ]
    },
    {
      "cell_type": "code",
      "execution_count": 14,
      "metadata": {
        "id": "_qaj7hY6i6YO"
      },
      "outputs": [],
      "source": [
        "# Load MNIST data\n",
        "path_to_mnist = untar_data(URLs.MNIST)"
      ]
    },
    {
      "cell_type": "code",
      "source": [
        "items_custom = get_image_files(path_to_custom_dataset)"
      ],
      "metadata": {
        "id": "ZPUxu1xdDjAp"
      },
      "execution_count": 15,
      "outputs": []
    },
    {
      "cell_type": "code",
      "source": [
        "items_custom"
      ],
      "metadata": {
        "colab": {
          "base_uri": "https://localhost:8080/"
        },
        "id": "F3Yxh5odDms2",
        "outputId": "0cc17739-4377-43dc-9447-4244913187b4"
      },
      "execution_count": 16,
      "outputs": [
        {
          "output_type": "execute_result",
          "data": {
            "text/plain": [
              "(#58339) [Path('/content/drive/MyDrive/tiny_data_thesis/all_images_tiny/image_57398.jpg'),Path('/content/drive/MyDrive/tiny_data_thesis/all_images_tiny/image_57399.jpg'),Path('/content/drive/MyDrive/tiny_data_thesis/all_images_tiny/image_57400.jpg'),Path('/content/drive/MyDrive/tiny_data_thesis/all_images_tiny/image_57401.jpg'),Path('/content/drive/MyDrive/tiny_data_thesis/all_images_tiny/image_57402.jpg'),Path('/content/drive/MyDrive/tiny_data_thesis/all_images_tiny/image_57403.jpg'),Path('/content/drive/MyDrive/tiny_data_thesis/all_images_tiny/image_57404.jpg'),Path('/content/drive/MyDrive/tiny_data_thesis/all_images_tiny/image_57405.jpg'),Path('/content/drive/MyDrive/tiny_data_thesis/all_images_tiny/image_57406.jpg'),Path('/content/drive/MyDrive/tiny_data_thesis/all_images_tiny/image_57407.jpg')...]"
            ]
          },
          "metadata": {},
          "execution_count": 16
        }
      ]
    },
    {
      "cell_type": "code",
      "source": [
        "items_mnist = get_image_files(path_to_mnist)\n",
        "items_mnist"
      ],
      "metadata": {
        "colab": {
          "base_uri": "https://localhost:8080/"
        },
        "id": "0a1xHei8xv3y",
        "outputId": "11203b32-1438-4ecf-b0e1-1d3c720872a3"
      },
      "execution_count": 9,
      "outputs": [
        {
          "output_type": "execute_result",
          "data": {
            "text/plain": [
              "(#70000) [Path('/root/.fastai/data/mnist_png/testing/1/9096.png'),Path('/root/.fastai/data/mnist_png/testing/1/1075.png'),Path('/root/.fastai/data/mnist_png/testing/1/3430.png'),Path('/root/.fastai/data/mnist_png/testing/1/2258.png'),Path('/root/.fastai/data/mnist_png/testing/1/1305.png'),Path('/root/.fastai/data/mnist_png/testing/1/3747.png'),Path('/root/.fastai/data/mnist_png/testing/1/7722.png'),Path('/root/.fastai/data/mnist_png/testing/1/9994.png'),Path('/root/.fastai/data/mnist_png/testing/1/2175.png'),Path('/root/.fastai/data/mnist_png/testing/1/4847.png')...]"
            ]
          },
          "metadata": {},
          "execution_count": 9
        }
      ]
    },
    {
      "cell_type": "code",
      "source": [
        "def resized_image(fn:Path, sz=28):\n",
        "  \"Opens an image from `fn` and resizes it to `sz`\"\n",
        "  x = Image.open(fn).convert('RGB').resize((sz,sz))\n",
        "  return tensor(array(x)).permute(2,0,1).float()/255.\n"
      ],
      "metadata": {
        "id": "rJ-u3qtEn-V1"
      },
      "execution_count": 19,
      "outputs": []
    },
    {
      "cell_type": "code",
      "source": [
        "img1 = resized_image(items_mnist[0], 28)\n",
        "img2 = resized_image(items_custom[0], 28)\n"
      ],
      "metadata": {
        "id": "Efy2X5rLoEQ5"
      },
      "execution_count": 20,
      "outputs": []
    },
    {
      "cell_type": "code",
      "source": [
        "class TitledImage(Tuple):\n",
        "  def show(self, ctx=None, **kwargs): show_titled_image(self, ctx=ctx, **kwargs)\n"
      ],
      "metadata": {
        "id": "FhGe8brYoTS-"
      },
      "execution_count": 21,
      "outputs": []
    },
    {
      "cell_type": "code",
      "source": [
        "TitledImage((img1, 'Test')).show()"
      ],
      "metadata": {
        "colab": {
          "base_uri": "https://localhost:8080/",
          "height": 136
        },
        "id": "aIrHfneYoVqs",
        "outputId": "3508016b-ad36-4f9e-ce36-80079bd3dee5"
      },
      "execution_count": 23,
      "outputs": [
        {
          "output_type": "display_data",
          "data": {
            "text/plain": [
              "<Figure size 100x100 with 1 Axes>"
            ],
            "image/png": "[encoded data removed]"
          },
          "metadata": {}
        }
      ]
    },
    {
      "cell_type": "code",
      "source": [
        "TitledImage((img2, 'Test')).show()"
      ],
      "metadata": {
        "colab": {
          "base_uri": "https://localhost:8080/",
          "height": 136
        },
        "id": "q_KFU3-sod8-",
        "outputId": "d9ef8500-b89f-41c3-ff96-8ef55cdc2e04"
      },
      "execution_count": 24,
      "outputs": [
        {
          "output_type": "display_data",
          "data": {
            "text/plain": [
              "<Figure size 100x100 with 1 Axes>"
            ],
            "image/png": "[encoded data removed]"
          },
          "metadata": {}
        }
      ]
    },
    {
      "cell_type": "code",
      "source": [
        "# map the labels for mnist data\n",
        "mnist_label = items_mnist.map(parent_label)"
      ],
      "metadata": {
        "id": "G_9iRUVMoggy"
      },
      "execution_count": 31,
      "outputs": []
    },
    {
      "cell_type": "code",
      "source": [
        "mnist_label"
      ],
      "metadata": {
        "colab": {
          "base_uri": "https://localhost:8080/"
        },
        "id": "97GJZ7d1ppHl",
        "outputId": "a3f02c0c-b80d-43e8-f570-758ff4def746"
      },
      "execution_count": 32,
      "outputs": [
        {
          "output_type": "execute_result",
          "data": {
            "text/plain": [
              "(#70000) ['1','1','1','1','1','1','1','1','1','1'...]"
            ]
          },
          "metadata": {},
          "execution_count": 32
        }
      ]
    },
    {
      "cell_type": "code",
      "source": [
        "# custom class\n",
        "class CustomDataClass():\n",
        "  \"\"\"\n",
        "    A transform to generate custom input data (Image_in, Image_out, Label_in)\n",
        "  \"\"\"\n",
        "  def __init__(self, items_mnist, items_custom, mnist_label):\n",
        "    self.items_mnist, self.items_custom, self.mnist_label = items_mnist, items_custom, mnist_label\n",
        "\n",
        "  def return_tuple(self, i):\n",
        "    return (self.items_mnist[i], self.items_custom[i], self.mnist_label[i])"
      ],
      "metadata": {
        "id": "37zxUgzyvVcD"
      },
      "execution_count": 45,
      "outputs": []
    },
    {
      "cell_type": "code",
      "source": [
        "# both the items should have same amount of images, to avoid 'IndexError'\n",
        "idxs = np.random.permutation(range(len(items_mnist)))\n",
        "idxs_custom = np.random.permutation(range(len(items_custom)))\n",
        "cut = int(0.8 * len(items_mnist))\n",
        "items_mnist_train = items_mnist[idxs[:cut]]\n",
        "items_custom_train = items_custom[idxs_custom[:cut]]\n",
        "mnist_label_train = mnist_label[idxs[:cut]]"
      ],
      "metadata": {
        "id": "2AVIHyF303pd"
      },
      "execution_count": 106,
      "outputs": []
    },
    {
      "cell_type": "code",
      "source": [
        "pair = CustomDataClass(items_mnist_train, items_custom_train, mnist_label_train)"
      ],
      "metadata": {
        "id": "rSzEEGtfxwgg"
      },
      "execution_count": 107,
      "outputs": []
    },
    {
      "cell_type": "code",
      "source": [
        "# open_and_resize = Transform(resized_image)"
      ],
      "metadata": {
        "id": "SkoaXmrOyCdm"
      },
      "execution_count": 108,
      "outputs": []
    },
    {
      "cell_type": "code",
      "source": [
        "pipe = Pipeline([pair.return_tuple, resized_image])"
      ],
      "metadata": {
        "id": "XFfp9WKjyIqr"
      },
      "execution_count": 109,
      "outputs": []
    },
    {
      "cell_type": "code",
      "source": [
        "image_in, image_out, label_in = pipe(0)"
      ],
      "metadata": {
        "id": "k8ay2Acky49W"
      },
      "execution_count": 110,
      "outputs": []
    },
    {
      "cell_type": "code",
      "source": [
        "image_in.shape, image_out.shape, label_in"
      ],
      "metadata": {
        "colab": {
          "base_uri": "https://localhost:8080/"
        },
        "id": "_lY_limkyOUe",
        "outputId": "25c4fa4a-542a-4bdb-e640-f145e8d4e2e2"
      },
      "execution_count": 111,
      "outputs": [
        {
          "output_type": "execute_result",
          "data": {
            "text/plain": [
              "(torch.Size([3, 28, 28]), torch.Size([3, 28, 28]), '9')"
            ]
          },
          "metadata": {},
          "execution_count": 111
        }
      ]
    },
    {
      "cell_type": "code",
      "source": [],
      "metadata": {
        "id": "tyxLOOXa1_tz"
      },
      "execution_count": null,
      "outputs": []
    },
    {
      "cell_type": "code",
      "source": [
        "# To run anything into a Dataloader, we want it to first be a TfmdList\n",
        "tls = TfmdLists(range_of(items_mnist_train), pipe)"
      ],
      "metadata": {
        "id": "nh7LBFBgzdCK"
      },
      "execution_count": 114,
      "outputs": []
    },
    {
      "cell_type": "code",
      "source": [
        "# make custom dataloaders\n",
        "dls = tls.dataloaders(bs = 10)"
      ],
      "metadata": {
        "id": "xYDqn_tRz-3X"
      },
      "execution_count": 115,
      "outputs": []
    },
    {
      "cell_type": "code",
      "source": [
        "batch = dls.one_batch()"
      ],
      "metadata": {
        "id": "3qtovV630RXJ"
      },
      "execution_count": 116,
      "outputs": []
    },
    {
      "cell_type": "code",
      "source": [
        "a,b,c = batch[0][0], batch[1][0], batch[2][0]"
      ],
      "metadata": {
        "id": "2NjvmsUH0Tpq"
      },
      "execution_count": 117,
      "outputs": []
    },
    {
      "cell_type": "code",
      "source": [
        "a.shape, b.shape, c"
      ],
      "metadata": {
        "colab": {
          "base_uri": "https://localhost:8080/"
        },
        "id": "AF2v7Glb1aSz",
        "outputId": "91cfdef8-5bb8-429a-fbff-93a7a089136c"
      },
      "execution_count": 118,
      "outputs": [
        {
          "output_type": "execute_result",
          "data": {
            "text/plain": [
              "(torch.Size([3, 28, 28]), torch.Size([3, 28, 28]), '4')"
            ]
          },
          "metadata": {},
          "execution_count": 118
        }
      ]
    },
    {
      "cell_type": "code",
      "source": [
        "TitledImage((a, 'Test')).show()"
      ],
      "metadata": {
        "colab": {
          "base_uri": "https://localhost:8080/",
          "height": 136
        },
        "id": "E8iRtcua1eEN",
        "outputId": "49547590-5269-4c74-ac48-e18312a9d2f1"
      },
      "execution_count": 119,
      "outputs": [
        {
          "output_type": "display_data",
          "data": {
            "text/plain": [
              "<Figure size 100x100 with 1 Axes>"
            ],
            "image/png": "[encoded data removed]"
          },
          "metadata": {}
        }
      ]
    },
    {
      "cell_type": "code",
      "source": [
        "TitledImage((b, 'Test')).show()"
      ],
      "metadata": {
        "colab": {
          "base_uri": "https://localhost:8080/",
          "height": 136
        },
        "id": "WjK5joBM10iP",
        "outputId": "ca118281-5de4-44c7-8f85-eb748ece7096"
      },
      "execution_count": 120,
      "outputs": [
        {
          "output_type": "display_data",
          "data": {
            "text/plain": [
              "<Figure size 100x100 with 1 Axes>"
            ],
            "image/png": "[encoded data removed]"
          },
          "metadata": {}
        }
      ]
    },
    {
      "cell_type": "code",
      "execution_count": null,
      "metadata": {
        "id": "g7zjs408_k02"
      },
      "outputs": [],
      "source": []
    }
  ],
  "metadata": {
    "colab": {
      "provenance": [],
      "authorship_tag": "ABX9TyPegvOtUDOVzQNrtQBycJIr",
      "include_colab_link": true
    },
    "kernelspec": {
      "display_name": "Python 3",
      "name": "python3"
    },
    "language_info": {
      "name": "python"
    }
  },
  "nbformat": 4,
  "nbformat_minor": 0
}